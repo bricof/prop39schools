{
 "cells": [
  {
   "cell_type": "markdown",
   "metadata": {},
   "source": [
    "## CSV Data to MySQL for use in VISDOM"
   ]
  },
  {
   "cell_type": "markdown",
   "metadata": {},
   "source": [
    "This notebook can be used to construct an 'account' table and a 'meter_data' table in mysql, based on the csv files with data extracted from the prop39schools xml files."
   ]
  },
  {
   "cell_type": "markdown",
   "metadata": {},
   "source": [
    "### Directory location"
   ]
  },
  {
   "cell_type": "markdown",
   "metadata": {},
   "source": [
    "In the case below, it is reading from the sample csv folder. Generally just point this to the directory with all of the csv files."
   ]
  },
  {
   "cell_type": "code",
   "execution_count": 1,
   "metadata": {
    "collapsed": true
   },
   "outputs": [],
   "source": [
    "csv_dir = \"../csv\""
   ]
  },
  {
   "cell_type": "markdown",
   "metadata": {},
   "source": [
    "### Notebook config"
   ]
  },
  {
   "cell_type": "code",
   "execution_count": 2,
   "metadata": {
    "collapsed": true
   },
   "outputs": [],
   "source": [
    "import pandas as pd\n",
    "import numpy as np\n",
    "import mysql.connector, os\n",
    "from sqlalchemy import create_engine"
   ]
  },
  {
   "cell_type": "code",
   "execution_count": 3,
   "metadata": {
    "collapsed": false
   },
   "outputs": [],
   "source": [
    "engine = create_engine('mysql+mysqlconnector://root@localhost/visdom_data_sample', echo=False)\n",
    "conn = engine.connect()"
   ]
  },
  {
   "cell_type": "markdown",
   "metadata": {},
   "source": [
    "### Reading the account table data from the _BILL.csv files"
   ]
  },
  {
   "cell_type": "code",
   "execution_count": 4,
   "metadata": {
    "collapsed": true
   },
   "outputs": [],
   "source": [
    "usecols = [\n",
    "    'utility',\n",
    "    'customer_name',\n",
    "    'customer_city',\n",
    "    'customer_zip',\n",
    "    'customer_account',\n",
    "    'lea_customer',\n",
    "    'cds_code',\n",
    "    'school_site_name',\n",
    "    'school_city',\n",
    "    'school_site_zip',\n",
    "    'agreement',\n",
    "    'rate_schedule_id'    \n",
    "]"
   ]
  },
  {
   "cell_type": "code",
   "execution_count": 5,
   "metadata": {
    "collapsed": false
   },
   "outputs": [
    {
     "name": "stdout",
     "output_type": "stream",
     "text": [
      "8\n"
     ]
    },
    {
     "data": {
      "text/html": [
       "<div>\n",
       "<table border=\"1\" class=\"dataframe\">\n",
       "  <thead>\n",
       "    <tr style=\"text-align: right;\">\n",
       "      <th></th>\n",
       "      <th>agreement</th>\n",
       "      <th>cds_code</th>\n",
       "      <th>customer_account</th>\n",
       "      <th>customer_city</th>\n",
       "      <th>customer_name</th>\n",
       "      <th>customer_zip</th>\n",
       "      <th>lea_customer</th>\n",
       "      <th>rate_schedule_id</th>\n",
       "      <th>school_city</th>\n",
       "      <th>school_site_name</th>\n",
       "      <th>school_site_zip</th>\n",
       "      <th>utility</th>\n",
       "    </tr>\n",
       "  </thead>\n",
       "  <tbody>\n",
       "    <tr>\n",
       "      <th>0</th>\n",
       "      <td>8496493494</td>\n",
       "      <td>1100170130419</td>\n",
       "      <td>NaN</td>\n",
       "      <td>HAYWARD</td>\n",
       "      <td>ALAMEDA COUNTY OFFICE OF EDUCATION</td>\n",
       "      <td>94544-1136</td>\n",
       "      <td>NaN</td>\n",
       "      <td>E19S</td>\n",
       "      <td>Hayward</td>\n",
       "      <td>Alameda County Community</td>\n",
       "      <td>94544-1136</td>\n",
       "      <td>PacificGasElectric</td>\n",
       "    </tr>\n",
       "    <tr>\n",
       "      <th>1</th>\n",
       "      <td>5637199045</td>\n",
       "      <td>1612346001481</td>\n",
       "      <td>NaN</td>\n",
       "      <td>NEWARK</td>\n",
       "      <td>NEWARK UNIFIED SCHOOL DISTRICT</td>\n",
       "      <td>94560-2554</td>\n",
       "      <td>NaN</td>\n",
       "      <td>A10S</td>\n",
       "      <td>Newark</td>\n",
       "      <td>James A. Graham Elementary</td>\n",
       "      <td>94560-2318</td>\n",
       "      <td>PacificGasElectric</td>\n",
       "    </tr>\n",
       "    <tr>\n",
       "      <th>2</th>\n",
       "      <td>5637199687</td>\n",
       "      <td>1612346001481</td>\n",
       "      <td>NaN</td>\n",
       "      <td>NEWARK</td>\n",
       "      <td>NEWARK UNIFIED SCHOOL DISTRICT</td>\n",
       "      <td>94560-2554</td>\n",
       "      <td>NaN</td>\n",
       "      <td>HA10S</td>\n",
       "      <td>Newark</td>\n",
       "      <td>James A. Graham Elementary</td>\n",
       "      <td>94560-2318</td>\n",
       "      <td>PacificGasElectric</td>\n",
       "    </tr>\n",
       "  </tbody>\n",
       "</table>\n",
       "</div>"
      ],
      "text/plain": [
       "    agreement       cds_code  customer_account customer_city  \\\n",
       "0  8496493494  1100170130419               NaN       HAYWARD   \n",
       "1  5637199045  1612346001481               NaN        NEWARK   \n",
       "2  5637199687  1612346001481               NaN        NEWARK   \n",
       "\n",
       "                        customer_name customer_zip  lea_customer  \\\n",
       "0  ALAMEDA COUNTY OFFICE OF EDUCATION   94544-1136           NaN   \n",
       "1      NEWARK UNIFIED SCHOOL DISTRICT   94560-2554           NaN   \n",
       "2      NEWARK UNIFIED SCHOOL DISTRICT   94560-2554           NaN   \n",
       "\n",
       "  rate_schedule_id school_city            school_site_name school_site_zip  \\\n",
       "0             E19S     Hayward    Alameda County Community      94544-1136   \n",
       "1             A10S      Newark  James A. Graham Elementary      94560-2318   \n",
       "2            HA10S      Newark  James A. Graham Elementary      94560-2318   \n",
       "\n",
       "              utility  \n",
       "0  PacificGasElectric  \n",
       "1  PacificGasElectric  \n",
       "2  PacificGasElectric  "
      ]
     },
     "execution_count": 5,
     "metadata": {},
     "output_type": "execute_result"
    }
   ],
   "source": [
    "accounts_list = []\n",
    "for root, dirs, files in os.walk(csv_dir):\n",
    "    for f in files:\n",
    "        if f.endswith('_BILL.csv'):\n",
    "            df = pd.read_csv(os.path.join(root,f), usecols=usecols)\n",
    "            df = df.drop_duplicates()\n",
    "            accounts_list.extend(df.to_dict(orient='records'))\n",
    "\n",
    "accounts_df = df.from_records(accounts_list)\n",
    "accounts_df = accounts_df.drop_duplicates()\n",
    "print len(accounts_df)\n",
    "accounts_df.head(3)"
   ]
  },
  {
   "cell_type": "code",
   "execution_count": 6,
   "metadata": {
    "collapsed": false
   },
   "outputs": [
    {
     "data": {
      "text/plain": [
       "['agreement',\n",
       " 'cds_code',\n",
       " 'customer_account',\n",
       " 'customer_city',\n",
       " 'customer_name',\n",
       " 'customer_zip',\n",
       " 'lea_customer',\n",
       " 'rate_schedule_id',\n",
       " 'school_city',\n",
       " 'school_site_name',\n",
       " 'school_site_zip',\n",
       " 'utility']"
      ]
     },
     "execution_count": 6,
     "metadata": {},
     "output_type": "execute_result"
    }
   ],
   "source": [
    "accounts_df.columns.tolist()"
   ]
  },
  {
   "cell_type": "code",
   "execution_count": 7,
   "metadata": {
    "collapsed": false
   },
   "outputs": [],
   "source": [
    "accounts_df.columns = [\n",
    " 'meter_uuid',\n",
    " 'account_uuid',\n",
    " 'customer_account',\n",
    " 'customer_city',\n",
    " 'customer_name',\n",
    " 'customer_zip',\n",
    " 'lea_customer',\n",
    " 'rate_schedule_id',\n",
    " 'school_city',\n",
    " 'school_site_name',\n",
    " 'school_site_zip',\n",
    " 'utility_name'\n",
    "]"
   ]
  },
  {
   "cell_type": "code",
   "execution_count": 8,
   "metadata": {
    "collapsed": false
   },
   "outputs": [
    {
     "data": {
      "text/html": [
       "<div>\n",
       "<table border=\"1\" class=\"dataframe\">\n",
       "  <thead>\n",
       "    <tr style=\"text-align: right;\">\n",
       "      <th></th>\n",
       "      <th>meter_uuid</th>\n",
       "      <th>account_uuid</th>\n",
       "      <th>customer_account</th>\n",
       "      <th>customer_city</th>\n",
       "      <th>customer_name</th>\n",
       "      <th>customer_zip</th>\n",
       "      <th>lea_customer</th>\n",
       "      <th>rate_schedule_id</th>\n",
       "      <th>school_city</th>\n",
       "      <th>school_site_name</th>\n",
       "      <th>school_site_zip</th>\n",
       "      <th>utility_name</th>\n",
       "      <th>zip5</th>\n",
       "    </tr>\n",
       "  </thead>\n",
       "  <tbody>\n",
       "    <tr>\n",
       "      <th>0</th>\n",
       "      <td>8496493494</td>\n",
       "      <td>1100170130419</td>\n",
       "      <td>NaN</td>\n",
       "      <td>HAYWARD</td>\n",
       "      <td>ALAMEDA COUNTY OFFICE OF EDUCATION</td>\n",
       "      <td>94544-1136</td>\n",
       "      <td>NaN</td>\n",
       "      <td>E19S</td>\n",
       "      <td>Hayward</td>\n",
       "      <td>Alameda County Community</td>\n",
       "      <td>94544-1136</td>\n",
       "      <td>PacificGasElectric</td>\n",
       "      <td>94544</td>\n",
       "    </tr>\n",
       "    <tr>\n",
       "      <th>1</th>\n",
       "      <td>5637199045</td>\n",
       "      <td>1612346001481</td>\n",
       "      <td>NaN</td>\n",
       "      <td>NEWARK</td>\n",
       "      <td>NEWARK UNIFIED SCHOOL DISTRICT</td>\n",
       "      <td>94560-2554</td>\n",
       "      <td>NaN</td>\n",
       "      <td>A10S</td>\n",
       "      <td>Newark</td>\n",
       "      <td>James A. Graham Elementary</td>\n",
       "      <td>94560-2318</td>\n",
       "      <td>PacificGasElectric</td>\n",
       "      <td>94560</td>\n",
       "    </tr>\n",
       "    <tr>\n",
       "      <th>2</th>\n",
       "      <td>5637199687</td>\n",
       "      <td>1612346001481</td>\n",
       "      <td>NaN</td>\n",
       "      <td>NEWARK</td>\n",
       "      <td>NEWARK UNIFIED SCHOOL DISTRICT</td>\n",
       "      <td>94560-2554</td>\n",
       "      <td>NaN</td>\n",
       "      <td>HA10S</td>\n",
       "      <td>Newark</td>\n",
       "      <td>James A. Graham Elementary</td>\n",
       "      <td>94560-2318</td>\n",
       "      <td>PacificGasElectric</td>\n",
       "      <td>94560</td>\n",
       "    </tr>\n",
       "  </tbody>\n",
       "</table>\n",
       "</div>"
      ],
      "text/plain": [
       "   meter_uuid   account_uuid  customer_account customer_city  \\\n",
       "0  8496493494  1100170130419               NaN       HAYWARD   \n",
       "1  5637199045  1612346001481               NaN        NEWARK   \n",
       "2  5637199687  1612346001481               NaN        NEWARK   \n",
       "\n",
       "                        customer_name customer_zip  lea_customer  \\\n",
       "0  ALAMEDA COUNTY OFFICE OF EDUCATION   94544-1136           NaN   \n",
       "1      NEWARK UNIFIED SCHOOL DISTRICT   94560-2554           NaN   \n",
       "2      NEWARK UNIFIED SCHOOL DISTRICT   94560-2554           NaN   \n",
       "\n",
       "  rate_schedule_id school_city            school_site_name school_site_zip  \\\n",
       "0             E19S     Hayward    Alameda County Community      94544-1136   \n",
       "1             A10S      Newark  James A. Graham Elementary      94560-2318   \n",
       "2            HA10S      Newark  James A. Graham Elementary      94560-2318   \n",
       "\n",
       "         utility_name   zip5  \n",
       "0  PacificGasElectric  94544  \n",
       "1  PacificGasElectric  94560  \n",
       "2  PacificGasElectric  94560  "
      ]
     },
     "execution_count": 8,
     "metadata": {},
     "output_type": "execute_result"
    }
   ],
   "source": [
    "accounts_df['zip5'] = accounts_df['school_site_zip'].str[:5]\n",
    "accounts_df.head(3)"
   ]
  },
  {
   "cell_type": "code",
   "execution_count": 9,
   "metadata": {
    "collapsed": false
   },
   "outputs": [
    {
     "data": {
      "text/plain": [
       "8"
      ]
     },
     "execution_count": 9,
     "metadata": {},
     "output_type": "execute_result"
    }
   ],
   "source": [
    "reals = accounts_df[['account_uuid']].applymap(np.isreal)\n",
    "accounts_df = accounts_df[reals['account_uuid']]\n",
    "len(accounts_df)"
   ]
  },
  {
   "cell_type": "code",
   "execution_count": 10,
   "metadata": {
    "collapsed": false
   },
   "outputs": [
    {
     "data": {
      "text/plain": [
       "8"
      ]
     },
     "execution_count": 10,
     "metadata": {},
     "output_type": "execute_result"
    }
   ],
   "source": [
    "accounts_df = accounts_df.drop_duplicates(subset=['meter_uuid'], keep='last')\n",
    "len(accounts_df)"
   ]
  },
  {
   "cell_type": "markdown",
   "metadata": {},
   "source": [
    "### Creating the account table in the desired format and writing to it"
   ]
  },
  {
   "cell_type": "code",
   "execution_count": 11,
   "metadata": {
    "collapsed": false
   },
   "outputs": [
    {
     "data": {
      "text/plain": [
       "<sqlalchemy.engine.result.ResultProxy at 0x113e96e50>"
      ]
     },
     "execution_count": 11,
     "metadata": {},
     "output_type": "execute_result"
    }
   ],
   "source": [
    "create_table_sql = '''\n",
    "CREATE TABLE `account` (\n",
    "  `id` int(11) NOT NULL AUTO_INCREMENT,\n",
    "  `account_uuid` bigint(20) DEFAULT NULL,\n",
    "  `meter_uuid` bigint(20) DEFAULT NULL,\n",
    "  `zip5` varchar(5) DEFAULT NULL,\n",
    "  `customer_account` varchar(50) DEFAULT NULL,\n",
    "  `customer_city` varchar(50) DEFAULT NULL,\n",
    "  `customer_name` varchar(50) DEFAULT NULL,\n",
    "  `customer_zip` varchar(10) DEFAULT NULL,\n",
    "  `lea_customer` varchar(50) DEFAULT NULL,\n",
    "  `rate_schedule_id` varchar(50) DEFAULT NULL,\n",
    "  `school_city` varchar(50) DEFAULT NULL,\n",
    "  `school_site_name` varchar(100) DEFAULT NULL,\n",
    "  `school_site_zip` varchar(10) DEFAULT NULL,\n",
    "  `utility_name` varchar(50) DEFAULT NULL,\n",
    "  PRIMARY KEY (`id`),\n",
    "  KEY `zip5_meter_uuid_idx` (`METER_UUID`,`zip5`),\n",
    "  KEY `account_uuid_idx` (`ACCOUNT_UUID`),\n",
    "  KEY `meter_uuid_idx` (`METER_UUID`)\n",
    ")\n",
    "'''\n",
    "\n",
    "conn.execute('DROP TABLE IF EXISTS `account`;')\n",
    "conn.execute(create_table_sql)"
   ]
  },
  {
   "cell_type": "code",
   "execution_count": 12,
   "metadata": {
    "collapsed": false
   },
   "outputs": [],
   "source": [
    "accounts_df.to_sql(name='account', con=engine, if_exists='append', index=False)"
   ]
  },
  {
   "cell_type": "markdown",
   "metadata": {},
   "source": [
    "Quick test to make sure it's working:"
   ]
  },
  {
   "cell_type": "code",
   "execution_count": 13,
   "metadata": {
    "collapsed": false
   },
   "outputs": [
    {
     "data": {
      "text/html": [
       "<div>\n",
       "<table border=\"1\" class=\"dataframe\">\n",
       "  <thead>\n",
       "    <tr style=\"text-align: right;\">\n",
       "      <th></th>\n",
       "      <th>id</th>\n",
       "      <th>account_uuid</th>\n",
       "      <th>meter_uuid</th>\n",
       "      <th>zip5</th>\n",
       "      <th>customer_account</th>\n",
       "      <th>customer_city</th>\n",
       "      <th>customer_name</th>\n",
       "      <th>customer_zip</th>\n",
       "      <th>lea_customer</th>\n",
       "      <th>rate_schedule_id</th>\n",
       "      <th>school_city</th>\n",
       "      <th>school_site_name</th>\n",
       "      <th>school_site_zip</th>\n",
       "      <th>utility_name</th>\n",
       "    </tr>\n",
       "  </thead>\n",
       "  <tbody>\n",
       "    <tr>\n",
       "      <th>0</th>\n",
       "      <td>1</td>\n",
       "      <td>1100170130419</td>\n",
       "      <td>8496493494</td>\n",
       "      <td>94544</td>\n",
       "      <td>None</td>\n",
       "      <td>HAYWARD</td>\n",
       "      <td>ALAMEDA COUNTY OFFICE OF EDUCATION</td>\n",
       "      <td>94544-1136</td>\n",
       "      <td>None</td>\n",
       "      <td>E19S</td>\n",
       "      <td>Hayward</td>\n",
       "      <td>Alameda County Community</td>\n",
       "      <td>94544-1136</td>\n",
       "      <td>PacificGasElectric</td>\n",
       "    </tr>\n",
       "    <tr>\n",
       "      <th>1</th>\n",
       "      <td>2</td>\n",
       "      <td>1612346001481</td>\n",
       "      <td>5637199045</td>\n",
       "      <td>94560</td>\n",
       "      <td>None</td>\n",
       "      <td>NEWARK</td>\n",
       "      <td>NEWARK UNIFIED SCHOOL DISTRICT</td>\n",
       "      <td>94560-2554</td>\n",
       "      <td>None</td>\n",
       "      <td>A10S</td>\n",
       "      <td>Newark</td>\n",
       "      <td>James A. Graham Elementary</td>\n",
       "      <td>94560-2318</td>\n",
       "      <td>PacificGasElectric</td>\n",
       "    </tr>\n",
       "    <tr>\n",
       "      <th>2</th>\n",
       "      <td>3</td>\n",
       "      <td>1612346001481</td>\n",
       "      <td>5637199687</td>\n",
       "      <td>94560</td>\n",
       "      <td>None</td>\n",
       "      <td>NEWARK</td>\n",
       "      <td>NEWARK UNIFIED SCHOOL DISTRICT</td>\n",
       "      <td>94560-2554</td>\n",
       "      <td>None</td>\n",
       "      <td>HA10S</td>\n",
       "      <td>Newark</td>\n",
       "      <td>James A. Graham Elementary</td>\n",
       "      <td>94560-2318</td>\n",
       "      <td>PacificGasElectric</td>\n",
       "    </tr>\n",
       "  </tbody>\n",
       "</table>\n",
       "</div>"
      ],
      "text/plain": [
       "   id   account_uuid  meter_uuid   zip5 customer_account customer_city  \\\n",
       "0   1  1100170130419  8496493494  94544             None       HAYWARD   \n",
       "1   2  1612346001481  5637199045  94560             None        NEWARK   \n",
       "2   3  1612346001481  5637199687  94560             None        NEWARK   \n",
       "\n",
       "                        customer_name customer_zip lea_customer  \\\n",
       "0  ALAMEDA COUNTY OFFICE OF EDUCATION   94544-1136         None   \n",
       "1      NEWARK UNIFIED SCHOOL DISTRICT   94560-2554         None   \n",
       "2      NEWARK UNIFIED SCHOOL DISTRICT   94560-2554         None   \n",
       "\n",
       "  rate_schedule_id school_city            school_site_name school_site_zip  \\\n",
       "0             E19S     Hayward    Alameda County Community      94544-1136   \n",
       "1             A10S      Newark  James A. Graham Elementary      94560-2318   \n",
       "2            HA10S      Newark  James A. Graham Elementary      94560-2318   \n",
       "\n",
       "         utility_name  \n",
       "0  PacificGasElectric  \n",
       "1  PacificGasElectric  \n",
       "2  PacificGasElectric  "
      ]
     },
     "execution_count": 13,
     "metadata": {},
     "output_type": "execute_result"
    }
   ],
   "source": [
    "pd.read_sql('SELECT * FROM account LIMIT 3;', con=engine)"
   ]
  },
  {
   "cell_type": "code",
   "execution_count": 14,
   "metadata": {
    "collapsed": false
   },
   "outputs": [
    {
     "data": {
      "text/html": [
       "<div>\n",
       "<table border=\"1\" class=\"dataframe\">\n",
       "  <thead>\n",
       "    <tr style=\"text-align: right;\">\n",
       "      <th></th>\n",
       "      <th>COUNT(*)</th>\n",
       "    </tr>\n",
       "  </thead>\n",
       "  <tbody>\n",
       "    <tr>\n",
       "      <th>0</th>\n",
       "      <td>8</td>\n",
       "    </tr>\n",
       "  </tbody>\n",
       "</table>\n",
       "</div>"
      ],
      "text/plain": [
       "   COUNT(*)\n",
       "0         8"
      ]
     },
     "execution_count": 14,
     "metadata": {},
     "output_type": "execute_result"
    }
   ],
   "source": [
    "pd.read_sql('SELECT COUNT(*) FROM account;', con=engine)"
   ]
  },
  {
   "cell_type": "code",
   "execution_count": 15,
   "metadata": {
    "collapsed": false
   },
   "outputs": [
    {
     "data": {
      "text/html": [
       "<div>\n",
       "<table border=\"1\" class=\"dataframe\">\n",
       "  <thead>\n",
       "    <tr style=\"text-align: right;\">\n",
       "      <th></th>\n",
       "      <th>COUNT(DISTINCT(meter_uuid))</th>\n",
       "    </tr>\n",
       "  </thead>\n",
       "  <tbody>\n",
       "    <tr>\n",
       "      <th>0</th>\n",
       "      <td>8</td>\n",
       "    </tr>\n",
       "  </tbody>\n",
       "</table>\n",
       "</div>"
      ],
      "text/plain": [
       "   COUNT(DISTINCT(meter_uuid))\n",
       "0                            8"
      ]
     },
     "execution_count": 15,
     "metadata": {},
     "output_type": "execute_result"
    }
   ],
   "source": [
    "pd.read_sql('SELECT COUNT(DISTINCT(meter_uuid)) FROM account;', con=engine)"
   ]
  },
  {
   "cell_type": "markdown",
   "metadata": {},
   "source": [
    "### Creating the meter_data table in the desired format"
   ]
  },
  {
   "cell_type": "markdown",
   "metadata": {},
   "source": [
    "Note: this is currently treating the meter_uuid, account_uuid, date and zip5 as integers, but they should more likely be treated as varchar, varchar, datetime and varchar, respectively."
   ]
  },
  {
   "cell_type": "code",
   "execution_count": 16,
   "metadata": {
    "collapsed": false
   },
   "outputs": [
    {
     "data": {
      "text/plain": [
       "<sqlalchemy.engine.result.ResultProxy at 0x113f6a950>"
      ]
     },
     "execution_count": 16,
     "metadata": {},
     "output_type": "execute_result"
    }
   ],
   "source": [
    "create_table_sql = '''\n",
    "CREATE TABLE `meter_data` (\n",
    "  `meter_uuid` bigint(20) NOT NULL,\n",
    "  `account_uuid` bigint(20) NOT NULL,\n",
    "  `date` int(11) NOT NULL,\n",
    "  `zip5` int(11) DEFAULT NULL,\n",
    "'''\n",
    "\n",
    "for i in range(1,97):\n",
    "    create_table_sql += \"`h\" + str(i) + \"` int(11) DEFAULT NULL,\\n\"\n",
    "\n",
    "create_table_sql += '''    \n",
    "  PRIMARY KEY (`meter_uuid`,`date`),\n",
    "  KEY `meter_uuid_idx` (`meter_uuid`),\n",
    "  KEY `account_uuid_idx` (`account_uuid`),\n",
    "  KEY `zip_Date_idx` (`date`,`zip5`),\n",
    "  KEY `zip_idx` (`zip5`)\n",
    ") ENGINE=InnoDB DEFAULT CHARSET=latin1;\n",
    "'''\n",
    "\n",
    "conn.execute('DROP TABLE IF EXISTS `meter_data`;')\n",
    "conn.execute(create_table_sql)"
   ]
  },
  {
   "cell_type": "markdown",
   "metadata": {},
   "source": [
    "### Fill the table with data from the csv files"
   ]
  },
  {
   "cell_type": "code",
   "execution_count": 17,
   "metadata": {
    "collapsed": true
   },
   "outputs": [],
   "source": [
    "usecols = ['agreement', 'start']\n",
    "for i in range(1,97):\n",
    "    usecols.append('d' + str(i))"
   ]
  },
  {
   "cell_type": "code",
   "execution_count": 18,
   "metadata": {
    "collapsed": true
   },
   "outputs": [],
   "source": [
    "colnames = ['meter_uuid', 'date']\n",
    "for i in range(1,97):\n",
    "    colnames.append('h' + str(i))"
   ]
  },
  {
   "cell_type": "code",
   "execution_count": 19,
   "metadata": {
    "collapsed": false
   },
   "outputs": [],
   "source": [
    "for root, dirs, files in os.walk(csv_dir):\n",
    "    for f in files:\n",
    "        if f.endswith('_INTERVAL.csv'):\n",
    "            df = pd.read_csv(os.path.join(root,f), usecols=usecols)\n",
    "            if len(df) > 0:\n",
    "                df.columns = colnames\n",
    "                df = df.drop_duplicates()\n",
    "                df = pd.merge(df,accounts_df[['meter_uuid','account_uuid','zip5']],on='meter_uuid')\n",
    "                try:\n",
    "                    df.to_sql(name='meter_data', con=engine, if_exists='append', index=False)\n",
    "                except:\n",
    "                    print \"failed sql insert. meter_uuid:\" + str(df['meter_uuid'][0]) + \", filename: \" + f"
   ]
  },
  {
   "cell_type": "markdown",
   "metadata": {},
   "source": [
    "### Quick tests to make sure it's done so properly"
   ]
  },
  {
   "cell_type": "code",
   "execution_count": 20,
   "metadata": {
    "collapsed": false
   },
   "outputs": [
    {
     "data": {
      "text/html": [
       "<div>\n",
       "<table border=\"1\" class=\"dataframe\">\n",
       "  <thead>\n",
       "    <tr style=\"text-align: right;\">\n",
       "      <th></th>\n",
       "      <th>meter_uuid</th>\n",
       "      <th>account_uuid</th>\n",
       "      <th>date</th>\n",
       "      <th>zip5</th>\n",
       "      <th>h1</th>\n",
       "      <th>h2</th>\n",
       "      <th>h3</th>\n",
       "      <th>h4</th>\n",
       "      <th>h5</th>\n",
       "      <th>h6</th>\n",
       "      <th>...</th>\n",
       "      <th>h87</th>\n",
       "      <th>h88</th>\n",
       "      <th>h89</th>\n",
       "      <th>h90</th>\n",
       "      <th>h91</th>\n",
       "      <th>h92</th>\n",
       "      <th>h93</th>\n",
       "      <th>h94</th>\n",
       "      <th>h95</th>\n",
       "      <th>h96</th>\n",
       "    </tr>\n",
       "  </thead>\n",
       "  <tbody>\n",
       "    <tr>\n",
       "      <th>0</th>\n",
       "      <td>314270951</td>\n",
       "      <td>1612006001341</td>\n",
       "      <td>1372662000</td>\n",
       "      <td>94550</td>\n",
       "      <td>7</td>\n",
       "      <td>8</td>\n",
       "      <td>6</td>\n",
       "      <td>7</td>\n",
       "      <td>6</td>\n",
       "      <td>7</td>\n",
       "      <td>...</td>\n",
       "      <td>9</td>\n",
       "      <td>10</td>\n",
       "      <td>8</td>\n",
       "      <td>9</td>\n",
       "      <td>9</td>\n",
       "      <td>9</td>\n",
       "      <td>9</td>\n",
       "      <td>8</td>\n",
       "      <td>8</td>\n",
       "      <td>9</td>\n",
       "    </tr>\n",
       "    <tr>\n",
       "      <th>1</th>\n",
       "      <td>314270951</td>\n",
       "      <td>1612006001341</td>\n",
       "      <td>1372748400</td>\n",
       "      <td>94550</td>\n",
       "      <td>8</td>\n",
       "      <td>9</td>\n",
       "      <td>8</td>\n",
       "      <td>8</td>\n",
       "      <td>8</td>\n",
       "      <td>8</td>\n",
       "      <td>...</td>\n",
       "      <td>9</td>\n",
       "      <td>9</td>\n",
       "      <td>8</td>\n",
       "      <td>9</td>\n",
       "      <td>8</td>\n",
       "      <td>9</td>\n",
       "      <td>8</td>\n",
       "      <td>9</td>\n",
       "      <td>9</td>\n",
       "      <td>8</td>\n",
       "    </tr>\n",
       "    <tr>\n",
       "      <th>2</th>\n",
       "      <td>314270951</td>\n",
       "      <td>1612006001341</td>\n",
       "      <td>1372834800</td>\n",
       "      <td>94550</td>\n",
       "      <td>9</td>\n",
       "      <td>9</td>\n",
       "      <td>9</td>\n",
       "      <td>8</td>\n",
       "      <td>9</td>\n",
       "      <td>8</td>\n",
       "      <td>...</td>\n",
       "      <td>9</td>\n",
       "      <td>9</td>\n",
       "      <td>9</td>\n",
       "      <td>9</td>\n",
       "      <td>9</td>\n",
       "      <td>9</td>\n",
       "      <td>9</td>\n",
       "      <td>9</td>\n",
       "      <td>9</td>\n",
       "      <td>9</td>\n",
       "    </tr>\n",
       "  </tbody>\n",
       "</table>\n",
       "<p>3 rows × 100 columns</p>\n",
       "</div>"
      ],
      "text/plain": [
       "   meter_uuid   account_uuid        date   zip5  h1  h2  h3  h4  h5  h6 ...   \\\n",
       "0   314270951  1612006001341  1372662000  94550   7   8   6   7   6   7 ...    \n",
       "1   314270951  1612006001341  1372748400  94550   8   9   8   8   8   8 ...    \n",
       "2   314270951  1612006001341  1372834800  94550   9   9   9   8   9   8 ...    \n",
       "\n",
       "   h87  h88  h89  h90  h91  h92  h93  h94  h95  h96  \n",
       "0    9   10    8    9    9    9    9    8    8    9  \n",
       "1    9    9    8    9    8    9    8    9    9    8  \n",
       "2    9    9    9    9    9    9    9    9    9    9  \n",
       "\n",
       "[3 rows x 100 columns]"
      ]
     },
     "execution_count": 20,
     "metadata": {},
     "output_type": "execute_result"
    }
   ],
   "source": [
    "pd.read_sql('SELECT * FROM meter_data LIMIT 3;', con=engine)"
   ]
  },
  {
   "cell_type": "code",
   "execution_count": 21,
   "metadata": {
    "collapsed": false
   },
   "outputs": [
    {
     "data": {
      "text/html": [
       "<div>\n",
       "<table border=\"1\" class=\"dataframe\">\n",
       "  <thead>\n",
       "    <tr style=\"text-align: right;\">\n",
       "      <th></th>\n",
       "      <th>COUNT(*)</th>\n",
       "    </tr>\n",
       "  </thead>\n",
       "  <tbody>\n",
       "    <tr>\n",
       "      <th>0</th>\n",
       "      <td>2167</td>\n",
       "    </tr>\n",
       "  </tbody>\n",
       "</table>\n",
       "</div>"
      ],
      "text/plain": [
       "   COUNT(*)\n",
       "0      2167"
      ]
     },
     "execution_count": 21,
     "metadata": {},
     "output_type": "execute_result"
    }
   ],
   "source": [
    "pd.read_sql('SELECT COUNT(*) FROM meter_data;', con=engine)"
   ]
  }
 ],
 "metadata": {
  "kernelspec": {
   "display_name": "Python 2",
   "language": "python",
   "name": "python2"
  },
  "language_info": {
   "codemirror_mode": {
    "name": "ipython",
    "version": 2
   },
   "file_extension": ".py",
   "mimetype": "text/x-python",
   "name": "python",
   "nbconvert_exporter": "python",
   "pygments_lexer": "ipython2",
   "version": "2.7.10"
  }
 },
 "nbformat": 4,
 "nbformat_minor": 1
}
