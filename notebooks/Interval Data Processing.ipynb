{
 "cells": [
  {
   "cell_type": "code",
   "execution_count": 3,
   "metadata": {
    "collapsed": false
   },
   "outputs": [],
   "source": [
    "from matplotlib import pyplot as plt\n",
    "%matplotlib inline\n",
    "\n",
    "import pandas as pd\n",
    "import numpy as np\n",
    "\n",
    "from IPython.display import clear_output\n",
    "\n",
    "import os\n",
    "import glob\n",
    "from datetime import datetime, timedelta\n",
    "import bokeh"
   ]
  },
  {
   "cell_type": "markdown",
   "metadata": {},
   "source": [
    "# Organize the files by type"
   ]
  },
  {
   "cell_type": "code",
   "execution_count": 3,
   "metadata": {
    "collapsed": true
   },
   "outputs": [],
   "source": [
    "data_path = \"/Users/toni/data/prop-39-school/prop39-original/\"\n",
    "out_path  = \"/Users/toni/data/prop-39-school/prop39-processed/\""
   ]
  },
  {
   "cell_type": "code",
   "execution_count": 281,
   "metadata": {
    "collapsed": false
   },
   "outputs": [
    {
     "data": {
      "text/plain": [
       "(9504, 2451, 9504, 2451)"
      ]
     },
     "execution_count": 281,
     "metadata": {},
     "output_type": "execute_result"
    }
   ],
   "source": [
    "# get different data files by type\n",
    "\n",
    "kwh_files = glob.glob(data_path + '/*/*/*ELECTRIC*INTERVAL*.csv') + \\\n",
    "            glob.glob(data_path + '/*/*/*Electrical*INTERVAL*.csv') + \\\n",
    "            glob.glob(data_path + '/*/*ELECTRIC*INTERVAL*.csv') + \\\n",
    "            glob.glob(data_path + '/*/*/*/*ELECTRIC*INTERVAL*.csv')\n",
    "gas_files = glob.glob(data_path + '/*/*/*GAS*INTERVAL*.csv') + \\\n",
    "            glob.glob(data_path + '/*/*GAS*INTERVAL*.csv') + \\\n",
    "            glob.glob(data_path + '/*/*/*/*GAS*INTERVAL*.csv')\n",
    "kwh_bill_files = glob.glob(data_path + '/*/*/*ELECTRIC*BILL*.csv') + \\\n",
    "            glob.glob(data_path + '/*/*/*Electrical*BILL*.csv') + \\\n",
    "            glob.glob(data_path + '/*/*ELECTRIC*BILL*.csv') + \\\n",
    "            glob.glob(data_path + '/*/*/*/*ELECTRIC*BILL*.csv')\n",
    "gas_bill_files = glob.glob(data_path + '/*/*/*GAS*BILL*.csv') + \\\n",
    "            glob.glob(data_path + '/*/*GAS*BILL*.csv') + \\\n",
    "            glob.glob(data_path + '/*/*/*/*GAS*BILL*.csv')\n",
    "        \n",
    "len(kwh_files), len(gas_files), len(kwh_bill_files), len(gas_bill_files)"
   ]
  },
  {
   "cell_type": "code",
   "execution_count": 90,
   "metadata": {
    "collapsed": true
   },
   "outputs": [],
   "source": [
    "def parse_path(filename):\n",
    "    basefile = os.path.basename(filename)\n",
    "    utilityName = f.replace(data_path, \"\").split(\"/\")[0]\n",
    "    info = basefile.split(\"_\")\n",
    "    if len(info) ==6:\n",
    "        siteId, _, _, serviceType, _, dataType = info\n",
    "    else:\n",
    "        # ['30736353030244', '2012-2013', 'ELECTRIC', '20150804.xml', 'INTERVAL.csv']\n",
    "        siteId, _, serviceType, _, dataType = info\n",
    "    dataType = dataType.split(\".\")[0]\n",
    "    return siteId, utilityName, serviceType, dataType"
   ]
  },
  {
   "cell_type": "code",
   "execution_count": 91,
   "metadata": {
    "collapsed": false
   },
   "outputs": [
    {
     "name": "stdout",
     "output_type": "stream",
     "text": [
      "/Users/toni/data/prop-39-school/prop39-original/SCE/2012-2013/10620260000000_2012-2013_SCE_ELECTRIC_20150722.xml_INTERVAL.csv\n"
     ]
    },
    {
     "data": {
      "text/plain": [
       "('10620260000000', 'SDGE', 'ELECTRIC', 'INTERVAL')"
      ]
     },
     "execution_count": 91,
     "metadata": {},
     "output_type": "execute_result"
    }
   ],
   "source": [
    "print kwh_files[0]\n",
    "parse_path(kwh_files[0])"
   ]
  },
  {
   "cell_type": "code",
   "execution_count": 92,
   "metadata": {
    "collapsed": false
   },
   "outputs": [
    {
     "name": "stdout",
     "output_type": "stream",
     "text": [
      "/Users/toni/data/prop-39-school/prop39-original/PGE/2013-2014/Electricity/44697996108138_20132014_PacificGasElectric_ELECTRIC_20151127.xml_INTERVAL.csv\n"
     ]
    },
    {
     "data": {
      "text/plain": [
       "('10620260000000', 'SDGE', 'ELECTRIC', 'INTERVAL')"
      ]
     },
     "execution_count": 92,
     "metadata": {},
     "output_type": "execute_result"
    }
   ],
   "source": [
    "print kwh_files[4000]\n",
    "parse_path(kwh_files[0])"
   ]
  },
  {
   "cell_type": "code",
   "execution_count": 74,
   "metadata": {
    "collapsed": false
   },
   "outputs": [
    {
     "name": "stdout",
     "output_type": "stream",
     "text": [
      "/Users/toni/data/prop-39-school/prop39-original/PGE/2012-2013/Gas/01612590100123_20122013_PacificGasElectric_GAS_20151104.xml_INTERVAL.csv\n"
     ]
    },
    {
     "data": {
      "text/plain": [
       "('01612590100123', 'PacificGasElectric', 'GAS', 'INTERVAL')"
      ]
     },
     "execution_count": 74,
     "metadata": {},
     "output_type": "execute_result"
    }
   ],
   "source": [
    "print gas_files[0]\n",
    "parse_path(gas_files[0])"
   ]
  },
  {
   "cell_type": "code",
   "execution_count": 75,
   "metadata": {
    "collapsed": false
   },
   "outputs": [
    {
     "name": "stdout",
     "output_type": "stream",
     "text": [
      "/Users/toni/data/prop-39-school/prop39-original/SCE/2012-2013/10620260000000_2012-2013_SCE_ELECTRIC_20150722.xml_BILL.csv\n"
     ]
    },
    {
     "data": {
      "text/plain": [
       "('10620260000000', 'SCE', 'ELECTRIC', 'BILL')"
      ]
     },
     "execution_count": 75,
     "metadata": {},
     "output_type": "execute_result"
    }
   ],
   "source": [
    "print kwh_bill_files[0]\n",
    "parse_path(kwh_bill_files[0])"
   ]
  },
  {
   "cell_type": "code",
   "execution_count": 76,
   "metadata": {
    "collapsed": false
   },
   "outputs": [
    {
     "name": "stdout",
     "output_type": "stream",
     "text": [
      "/Users/toni/data/prop-39-school/prop39-original/PGE/2012-2013/Gas/01612590100123_20122013_PacificGasElectric_GAS_20151104.xml_BILL.csv\n"
     ]
    },
    {
     "data": {
      "text/plain": [
       "('01612590100123', 'PacificGasElectric', 'GAS', 'BILL')"
      ]
     },
     "execution_count": 76,
     "metadata": {},
     "output_type": "execute_result"
    }
   ],
   "source": [
    "print gas_bill_files[0]\n",
    "parse_path(gas_bill_files[0])"
   ]
  },
  {
   "cell_type": "code",
   "execution_count": 140,
   "metadata": {
    "collapsed": false
   },
   "outputs": [
    {
     "data": {
      "text/html": [
       "<div>\n",
       "<table border=\"1\" class=\"dataframe\">\n",
       "  <thead>\n",
       "    <tr style=\"text-align: right;\">\n",
       "      <th></th>\n",
       "      <th>Id</th>\n",
       "      <th>Utility</th>\n",
       "      <th>ServiceType</th>\n",
       "      <th>DataType</th>\n",
       "      <th>DataFile</th>\n",
       "    </tr>\n",
       "  </thead>\n",
       "  <tbody>\n",
       "    <tr>\n",
       "      <th>0</th>\n",
       "      <td>10620260000000</td>\n",
       "      <td>SCE</td>\n",
       "      <td>ELECTRIC</td>\n",
       "      <td>INTERVAL</td>\n",
       "      <td>/Users/toni/data/prop-39-school/prop39-origina...</td>\n",
       "    </tr>\n",
       "    <tr>\n",
       "      <th>1</th>\n",
       "      <td>10620266005763</td>\n",
       "      <td>SCE</td>\n",
       "      <td>ELECTRIC</td>\n",
       "      <td>INTERVAL</td>\n",
       "      <td>/Users/toni/data/prop-39-school/prop39-origina...</td>\n",
       "    </tr>\n",
       "    <tr>\n",
       "      <th>2</th>\n",
       "      <td>15634040000000</td>\n",
       "      <td>SCE</td>\n",
       "      <td>ELECTRIC</td>\n",
       "      <td>INTERVAL</td>\n",
       "      <td>/Users/toni/data/prop-39-school/prop39-origina...</td>\n",
       "    </tr>\n",
       "    <tr>\n",
       "      <th>3</th>\n",
       "      <td>15634040106575</td>\n",
       "      <td>SCE</td>\n",
       "      <td>ELECTRIC</td>\n",
       "      <td>INTERVAL</td>\n",
       "      <td>/Users/toni/data/prop-39-school/prop39-origina...</td>\n",
       "    </tr>\n",
       "    <tr>\n",
       "      <th>4</th>\n",
       "      <td>15634040112185</td>\n",
       "      <td>SCE</td>\n",
       "      <td>ELECTRIC</td>\n",
       "      <td>INTERVAL</td>\n",
       "      <td>/Users/toni/data/prop-39-school/prop39-origina...</td>\n",
       "    </tr>\n",
       "  </tbody>\n",
       "</table>\n",
       "</div>"
      ],
      "text/plain": [
       "               Id Utility ServiceType  DataType  \\\n",
       "0  10620260000000     SCE    ELECTRIC  INTERVAL   \n",
       "1  10620266005763     SCE    ELECTRIC  INTERVAL   \n",
       "2  15634040000000     SCE    ELECTRIC  INTERVAL   \n",
       "3  15634040106575     SCE    ELECTRIC  INTERVAL   \n",
       "4  15634040112185     SCE    ELECTRIC  INTERVAL   \n",
       "\n",
       "                                            DataFile  \n",
       "0  /Users/toni/data/prop-39-school/prop39-origina...  \n",
       "1  /Users/toni/data/prop-39-school/prop39-origina...  \n",
       "2  /Users/toni/data/prop-39-school/prop39-origina...  \n",
       "3  /Users/toni/data/prop-39-school/prop39-origina...  \n",
       "4  /Users/toni/data/prop-39-school/prop39-origina...  "
      ]
     },
     "execution_count": 140,
     "metadata": {},
     "output_type": "execute_result"
    }
   ],
   "source": [
    "files_df = pd.DataFrame([list(parse_path(f)) + [f] for f in kwh_files + kwh_bill_files + gas_files + gas_bill_files], \\\n",
    "                            columns=[\"Id\", \"Utility\", \"ServiceType\", \"DataType\", \"DataFile\"])\n",
    "files_df.head()"
   ]
  },
  {
   "cell_type": "code",
   "execution_count": 141,
   "metadata": {
    "collapsed": false
   },
   "outputs": [
    {
     "data": {
      "text/plain": [
       "(19850, 5)"
      ]
     },
     "execution_count": 141,
     "metadata": {},
     "output_type": "execute_result"
    }
   ],
   "source": [
    "files_df.shape"
   ]
  },
  {
   "cell_type": "code",
   "execution_count": 142,
   "metadata": {
    "collapsed": true
   },
   "outputs": [],
   "source": [
    "files_df.set_index([\"Id\", \"Utility\", \"ServiceType\", \"DataType\"], inplace=True)"
   ]
  },
  {
   "cell_type": "markdown",
   "metadata": {},
   "source": [
    "# Parse data"
   ]
  },
  {
   "cell_type": "markdown",
   "metadata": {},
   "source": [
    "### kWh iterval data"
   ]
  },
  {
   "cell_type": "code",
   "execution_count": 192,
   "metadata": {
    "collapsed": false
   },
   "outputs": [],
   "source": [
    "def parse_kwh_interval(filename):\n",
    "    # some files are zero size\n",
    "    import os\n",
    "    statinfo = os.stat(filename)\n",
    "    if statinfo.st_size==0:\n",
    "        return None\n",
    "    \n",
    "    # some files have different number of columns for the first few rows\n",
    "    i = 0\n",
    "    ok = False\n",
    "    while not ok:\n",
    "        try:\n",
    "            kwh = pd.read_csv(filename, skiprows=i, header=None)\n",
    "            ok = True\n",
    "        except:\n",
    "            i += 1\n",
    "    if i>0:\n",
    "        print \"%s: skipped %d lines\"%(filename, i)\n",
    "        \n",
    "    # all good, format data into canonical\n",
    "    kwh.rename(columns={0:\"id\", 1:\"date\"}, inplace=True)\n",
    "    # date is in Unix timestamp format, convert to ISO format\n",
    "    kwh['date'] = kwh['date'].apply(lambda x: datetime.fromtimestamp(int(x)).strftime('%Y-%m-%d'))\n",
    "    agreement_id = kwh['id'].iloc[0]\n",
    "    kwh.drop(\"id\", axis=1, inplace=True)\n",
    "    kwh.set_index([\"date\"], inplace=True)\n",
    "    kwh = kwh.iloc[:,:96]\n",
    "    \n",
    "    return kwh"
   ]
  },
  {
   "cell_type": "code",
   "execution_count": 57,
   "metadata": {
    "collapsed": false
   },
   "outputs": [
    {
     "name": "stdout",
     "output_type": "stream",
     "text": [
      "15634040000000_2012-2013_SCE_ELECTRIC_20150722.xml_INTERVAL.csv\n"
     ]
    },
    {
     "data": {
      "text/html": [
       "<div>\n",
       "<table border=\"1\" class=\"dataframe\">\n",
       "  <thead>\n",
       "    <tr style=\"text-align: right;\">\n",
       "      <th></th>\n",
       "      <th>2</th>\n",
       "      <th>3</th>\n",
       "      <th>4</th>\n",
       "      <th>5</th>\n",
       "      <th>6</th>\n",
       "      <th>7</th>\n",
       "      <th>8</th>\n",
       "      <th>9</th>\n",
       "      <th>10</th>\n",
       "      <th>11</th>\n",
       "      <th>...</th>\n",
       "      <th>88</th>\n",
       "      <th>89</th>\n",
       "      <th>90</th>\n",
       "      <th>91</th>\n",
       "      <th>92</th>\n",
       "      <th>93</th>\n",
       "      <th>94</th>\n",
       "      <th>95</th>\n",
       "      <th>96</th>\n",
       "      <th>97</th>\n",
       "    </tr>\n",
       "    <tr>\n",
       "      <th>date</th>\n",
       "      <th></th>\n",
       "      <th></th>\n",
       "      <th></th>\n",
       "      <th></th>\n",
       "      <th></th>\n",
       "      <th></th>\n",
       "      <th></th>\n",
       "      <th></th>\n",
       "      <th></th>\n",
       "      <th></th>\n",
       "      <th></th>\n",
       "      <th></th>\n",
       "      <th></th>\n",
       "      <th></th>\n",
       "      <th></th>\n",
       "      <th></th>\n",
       "      <th></th>\n",
       "      <th></th>\n",
       "      <th></th>\n",
       "      <th></th>\n",
       "      <th></th>\n",
       "    </tr>\n",
       "  </thead>\n",
       "  <tbody>\n",
       "    <tr>\n",
       "      <th>2012-06-30</th>\n",
       "      <td>0.72</td>\n",
       "      <td>4.32</td>\n",
       "      <td>3.06</td>\n",
       "      <td>0.66</td>\n",
       "      <td>0.60</td>\n",
       "      <td>0.66</td>\n",
       "      <td>0.66</td>\n",
       "      <td>0.72</td>\n",
       "      <td>0.72</td>\n",
       "      <td>0.60</td>\n",
       "      <td>...</td>\n",
       "      <td>0.66</td>\n",
       "      <td>0.60</td>\n",
       "      <td>0.66</td>\n",
       "      <td>0.66</td>\n",
       "      <td>0.66</td>\n",
       "      <td>0.66</td>\n",
       "      <td>0.60</td>\n",
       "      <td>0.66</td>\n",
       "      <td>0.60</td>\n",
       "      <td>0.66</td>\n",
       "    </tr>\n",
       "    <tr>\n",
       "      <th>2012-07-01</th>\n",
       "      <td>0.66</td>\n",
       "      <td>0.72</td>\n",
       "      <td>0.66</td>\n",
       "      <td>0.66</td>\n",
       "      <td>0.66</td>\n",
       "      <td>0.72</td>\n",
       "      <td>0.66</td>\n",
       "      <td>0.66</td>\n",
       "      <td>0.72</td>\n",
       "      <td>0.66</td>\n",
       "      <td>...</td>\n",
       "      <td>0.66</td>\n",
       "      <td>0.60</td>\n",
       "      <td>0.66</td>\n",
       "      <td>0.66</td>\n",
       "      <td>0.66</td>\n",
       "      <td>0.60</td>\n",
       "      <td>0.72</td>\n",
       "      <td>0.66</td>\n",
       "      <td>0.60</td>\n",
       "      <td>0.66</td>\n",
       "    </tr>\n",
       "    <tr>\n",
       "      <th>2012-07-02</th>\n",
       "      <td>0.72</td>\n",
       "      <td>0.72</td>\n",
       "      <td>0.66</td>\n",
       "      <td>0.66</td>\n",
       "      <td>0.66</td>\n",
       "      <td>0.66</td>\n",
       "      <td>0.66</td>\n",
       "      <td>0.66</td>\n",
       "      <td>0.72</td>\n",
       "      <td>0.72</td>\n",
       "      <td>...</td>\n",
       "      <td>3.60</td>\n",
       "      <td>3.18</td>\n",
       "      <td>3.66</td>\n",
       "      <td>2.88</td>\n",
       "      <td>3.36</td>\n",
       "      <td>3.00</td>\n",
       "      <td>1.44</td>\n",
       "      <td>0.72</td>\n",
       "      <td>0.66</td>\n",
       "      <td>0.66</td>\n",
       "    </tr>\n",
       "    <tr>\n",
       "      <th>2012-07-03</th>\n",
       "      <td>0.72</td>\n",
       "      <td>0.66</td>\n",
       "      <td>0.66</td>\n",
       "      <td>0.72</td>\n",
       "      <td>0.66</td>\n",
       "      <td>0.78</td>\n",
       "      <td>0.66</td>\n",
       "      <td>0.72</td>\n",
       "      <td>0.66</td>\n",
       "      <td>0.78</td>\n",
       "      <td>...</td>\n",
       "      <td>0.66</td>\n",
       "      <td>0.60</td>\n",
       "      <td>0.72</td>\n",
       "      <td>0.66</td>\n",
       "      <td>0.66</td>\n",
       "      <td>0.72</td>\n",
       "      <td>0.66</td>\n",
       "      <td>0.66</td>\n",
       "      <td>0.66</td>\n",
       "      <td>0.66</td>\n",
       "    </tr>\n",
       "    <tr>\n",
       "      <th>2012-07-04</th>\n",
       "      <td>0.66</td>\n",
       "      <td>0.72</td>\n",
       "      <td>0.66</td>\n",
       "      <td>0.72</td>\n",
       "      <td>0.72</td>\n",
       "      <td>0.78</td>\n",
       "      <td>0.66</td>\n",
       "      <td>0.72</td>\n",
       "      <td>0.66</td>\n",
       "      <td>0.66</td>\n",
       "      <td>...</td>\n",
       "      <td>3.12</td>\n",
       "      <td>3.24</td>\n",
       "      <td>3.66</td>\n",
       "      <td>3.00</td>\n",
       "      <td>2.04</td>\n",
       "      <td>0.78</td>\n",
       "      <td>0.78</td>\n",
       "      <td>0.78</td>\n",
       "      <td>0.78</td>\n",
       "      <td>0.84</td>\n",
       "    </tr>\n",
       "  </tbody>\n",
       "</table>\n",
       "<p>5 rows × 96 columns</p>\n",
       "</div>"
      ],
      "text/plain": [
       "              2     3     4     5     6     7     8     9     10    11  ...   \\\n",
       "date                                                                    ...    \n",
       "2012-06-30  0.72  4.32  3.06  0.66  0.60  0.66  0.66  0.72  0.72  0.60  ...    \n",
       "2012-07-01  0.66  0.72  0.66  0.66  0.66  0.72  0.66  0.66  0.72  0.66  ...    \n",
       "2012-07-02  0.72  0.72  0.66  0.66  0.66  0.66  0.66  0.66  0.72  0.72  ...    \n",
       "2012-07-03  0.72  0.66  0.66  0.72  0.66  0.78  0.66  0.72  0.66  0.78  ...    \n",
       "2012-07-04  0.66  0.72  0.66  0.72  0.72  0.78  0.66  0.72  0.66  0.66  ...    \n",
       "\n",
       "              88    89    90    91    92    93    94    95    96    97  \n",
       "date                                                                    \n",
       "2012-06-30  0.66  0.60  0.66  0.66  0.66  0.66  0.60  0.66  0.60  0.66  \n",
       "2012-07-01  0.66  0.60  0.66  0.66  0.66  0.60  0.72  0.66  0.60  0.66  \n",
       "2012-07-02  3.60  3.18  3.66  2.88  3.36  3.00  1.44  0.72  0.66  0.66  \n",
       "2012-07-03  0.66  0.60  0.72  0.66  0.66  0.72  0.66  0.66  0.66  0.66  \n",
       "2012-07-04  3.12  3.24  3.66  3.00  2.04  0.78  0.78  0.78  0.78  0.84  \n",
       "\n",
       "[5 rows x 96 columns]"
      ]
     },
     "execution_count": 57,
     "metadata": {},
     "output_type": "execute_result"
    }
   ],
   "source": [
    "kwh = parse_kwh_interval(kwh_files[0])\n",
    "kwh.head()"
   ]
  },
  {
   "cell_type": "code",
   "execution_count": 59,
   "metadata": {
    "collapsed": false,
    "scrolled": false
   },
   "outputs": [
    {
     "data": {
      "text/plain": [
       "<matplotlib.image.AxesImage at 0x10e805310>"
      ]
     },
     "execution_count": 59,
     "metadata": {},
     "output_type": "execute_result"
    },
    {
     "data": {
      "image/png": "[encoded data removed]",
      "text/plain": [
       "<matplotlib.figure.Figure at 0x10e324f50>"
      ]
     },
     "metadata": {},
     "output_type": "display_data"
    },
    {
     "data": {
      "image/png": "[encoded data removed]",
      "text/plain": [
       "<matplotlib.figure.Figure at 0x10e1c9450>"
      ]
     },
     "metadata": {},
     "output_type": "display_data"
    }
   ],
   "source": [
    "# It looks like this is 15-minute interval data?\n",
    "\n",
    "plt.figure(figsize=(8,4))\n",
    "plt.plot(kwh.max().values, label=\"max\", lw=2)\n",
    "plt.plot(kwh.std().values, label=\"std\", lw=2)\n",
    "plt.plot(kwh.mean().values, label=\"avg\", lw=2)\n",
    "\n",
    "idx = np.random.choice(kwh.index.values, 5)\n",
    "for i in idx:\n",
    "    plt.plot(kwh.ix[i].values[0], label=i)\n",
    "    \n",
    "plt.ylabel(\"kWh\")\n",
    "plt.legend()\n",
    "\n",
    "plt.figure(figsize=(8,6))\n",
    "plt.imshow(kwh.iloc[:,:96].values, interpolation='nearest', aspect='auto')"
   ]
  },
  {
   "cell_type": "code",
   "execution_count": 143,
   "metadata": {
    "collapsed": false
   },
   "outputs": [
    {
     "name": "stdout",
     "output_type": "stream",
     "text": [
      "4095\n"
     ]
    }
   ],
   "source": [
    "idx = (files_df.index.get_level_values('ServiceType')=='ELECTRIC') & (files_df.index.get_level_values('DataType')=='INTERVAL')\n",
    "keys= files_df.index[idx].unique()\n",
    "print len(keys)"
   ]
  },
  {
   "cell_type": "markdown",
   "metadata": {},
   "source": [
    "### kWh billing data"
   ]
  },
  {
   "cell_type": "code",
   "execution_count": 274,
   "metadata": {
    "collapsed": false
   },
   "outputs": [],
   "source": [
    "def parse_kwh_bill(filename):\n",
    "    # some files are zero size\n",
    "    import os\n",
    "    statinfo = os.stat(filename)\n",
    "    if statinfo.st_size==0:\n",
    "        return None\n",
    "    \n",
    "    fields = [\"cds_code\", \"start_time\", \"agreement\", \"generation\", \"rate_schedule_id\", \\\n",
    "              \"n_days\", \"last_period\", \"consumption_total\"]\n",
    "    bill = pd.read_csv(filename, usecols=fields, engine='python')\n",
    "    bill['start_time'] = bill['start_time'].apply(lambda x: np.nan if x in ['false', 'true'] or \\\n",
    "                                                      type(x)==float or (type(x)==str and x.replace(\".\",\"\").isdigit()) \\\n",
    "                                                            else datetime.fromtimestamp(int(x)).strftime('%Y-%m-%d'))\n",
    "    bill.dropna(inplace=True)\n",
    "    bill.set_index(\"start_time\", inplace=True)\n",
    "    \n",
    "    return bill"
   ]
  },
  {
   "cell_type": "code",
   "execution_count": 283,
   "metadata": {
    "collapsed": false
   },
   "outputs": [
    {
     "data": {
      "text/html": [
       "<div>\n",
       "<table border=\"1\" class=\"dataframe\">\n",
       "  <thead>\n",
       "    <tr style=\"text-align: right;\">\n",
       "      <th></th>\n",
       "      <th>cds_code</th>\n",
       "      <th>agreement</th>\n",
       "      <th>rate_schedule_id</th>\n",
       "      <th>n_days</th>\n",
       "      <th>generation</th>\n",
       "      <th>last_period</th>\n",
       "      <th>consumption_total</th>\n",
       "    </tr>\n",
       "    <tr>\n",
       "      <th>start_time</th>\n",
       "      <th></th>\n",
       "      <th></th>\n",
       "      <th></th>\n",
       "      <th></th>\n",
       "      <th></th>\n",
       "      <th></th>\n",
       "      <th></th>\n",
       "    </tr>\n",
       "  </thead>\n",
       "  <tbody>\n",
       "    <tr>\n",
       "      <th>2012-06-11</th>\n",
       "      <td>10620260000000</td>\n",
       "      <td>3449927</td>\n",
       "      <td>GS-1</td>\n",
       "      <td>30</td>\n",
       "      <td>False</td>\n",
       "      <td>21.99</td>\n",
       "      <td>0.0</td>\n",
       "    </tr>\n",
       "    <tr>\n",
       "      <th>2012-07-11</th>\n",
       "      <td>10620260000000</td>\n",
       "      <td>3449927</td>\n",
       "      <td>GS-1</td>\n",
       "      <td>30</td>\n",
       "      <td>False</td>\n",
       "      <td>23.10</td>\n",
       "      <td>5.0</td>\n",
       "    </tr>\n",
       "    <tr>\n",
       "      <th>2012-08-10</th>\n",
       "      <td>10620260000000</td>\n",
       "      <td>3449927</td>\n",
       "      <td>GS-1</td>\n",
       "      <td>32</td>\n",
       "      <td>False</td>\n",
       "      <td>30.69</td>\n",
       "      <td>36.0</td>\n",
       "    </tr>\n",
       "    <tr>\n",
       "      <th>2012-09-11</th>\n",
       "      <td>10620260000000</td>\n",
       "      <td>3449927</td>\n",
       "      <td>GS-1</td>\n",
       "      <td>33</td>\n",
       "      <td>False</td>\n",
       "      <td>34.19</td>\n",
       "      <td>58.0</td>\n",
       "    </tr>\n",
       "    <tr>\n",
       "      <th>2012-10-14</th>\n",
       "      <td>10620260000000</td>\n",
       "      <td>3449927</td>\n",
       "      <td>GS-1</td>\n",
       "      <td>30</td>\n",
       "      <td>False</td>\n",
       "      <td>28.02</td>\n",
       "      <td>42.0</td>\n",
       "    </tr>\n",
       "    <tr>\n",
       "      <th>2012-11-13</th>\n",
       "      <td>10620260000000</td>\n",
       "      <td>3449927</td>\n",
       "      <td>GS-1</td>\n",
       "      <td>30</td>\n",
       "      <td>False</td>\n",
       "      <td>30.39</td>\n",
       "      <td>60.0</td>\n",
       "    </tr>\n",
       "    <tr>\n",
       "      <th>2012-12-13</th>\n",
       "      <td>10620260000000</td>\n",
       "      <td>3449927</td>\n",
       "      <td>GS-1</td>\n",
       "      <td>32</td>\n",
       "      <td>False</td>\n",
       "      <td>32.28</td>\n",
       "      <td>56.0</td>\n",
       "    </tr>\n",
       "    <tr>\n",
       "      <th>2013-01-14</th>\n",
       "      <td>10620260000000</td>\n",
       "      <td>3449927</td>\n",
       "      <td>GS-1</td>\n",
       "      <td>29</td>\n",
       "      <td>False</td>\n",
       "      <td>33.00</td>\n",
       "      <td>70.0</td>\n",
       "    </tr>\n",
       "    <tr>\n",
       "      <th>2013-02-12</th>\n",
       "      <td>10620260000000</td>\n",
       "      <td>3449927</td>\n",
       "      <td>GS-1</td>\n",
       "      <td>30</td>\n",
       "      <td>False</td>\n",
       "      <td>32.67</td>\n",
       "      <td>62.0</td>\n",
       "    </tr>\n",
       "    <tr>\n",
       "      <th>2013-03-14</th>\n",
       "      <td>10620260000000</td>\n",
       "      <td>3449927</td>\n",
       "      <td>GS-1</td>\n",
       "      <td>31</td>\n",
       "      <td>False</td>\n",
       "      <td>36.05</td>\n",
       "      <td>78.0</td>\n",
       "    </tr>\n",
       "    <tr>\n",
       "      <th>2013-04-14</th>\n",
       "      <td>10620260000000</td>\n",
       "      <td>3449927</td>\n",
       "      <td>GS-1</td>\n",
       "      <td>31</td>\n",
       "      <td>False</td>\n",
       "      <td>36.53</td>\n",
       "      <td>78.0</td>\n",
       "    </tr>\n",
       "    <tr>\n",
       "      <th>2013-05-15</th>\n",
       "      <td>10620260000000</td>\n",
       "      <td>3449927</td>\n",
       "      <td>GS-1</td>\n",
       "      <td>32</td>\n",
       "      <td>False</td>\n",
       "      <td>35.45</td>\n",
       "      <td>59.0</td>\n",
       "    </tr>\n",
       "    <tr>\n",
       "      <th>2013-06-16</th>\n",
       "      <td>10620260000000</td>\n",
       "      <td>3449927</td>\n",
       "      <td>GS-1</td>\n",
       "      <td>30</td>\n",
       "      <td>False</td>\n",
       "      <td>36.41</td>\n",
       "      <td>68.0</td>\n",
       "    </tr>\n",
       "  </tbody>\n",
       "</table>\n",
       "</div>"
      ],
      "text/plain": [
       "                  cds_code  agreement rate_schedule_id  n_days generation  \\\n",
       "start_time                                                                  \n",
       "2012-06-11  10620260000000    3449927             GS-1      30      False   \n",
       "2012-07-11  10620260000000    3449927             GS-1      30      False   \n",
       "2012-08-10  10620260000000    3449927             GS-1      32      False   \n",
       "2012-09-11  10620260000000    3449927             GS-1      33      False   \n",
       "2012-10-14  10620260000000    3449927             GS-1      30      False   \n",
       "2012-11-13  10620260000000    3449927             GS-1      30      False   \n",
       "2012-12-13  10620260000000    3449927             GS-1      32      False   \n",
       "2013-01-14  10620260000000    3449927             GS-1      29      False   \n",
       "2013-02-12  10620260000000    3449927             GS-1      30      False   \n",
       "2013-03-14  10620260000000    3449927             GS-1      31      False   \n",
       "2013-04-14  10620260000000    3449927             GS-1      31      False   \n",
       "2013-05-15  10620260000000    3449927             GS-1      32      False   \n",
       "2013-06-16  10620260000000    3449927             GS-1      30      False   \n",
       "\n",
       "            last_period  consumption_total  \n",
       "start_time                                  \n",
       "2012-06-11        21.99                0.0  \n",
       "2012-07-11        23.10                5.0  \n",
       "2012-08-10        30.69               36.0  \n",
       "2012-09-11        34.19               58.0  \n",
       "2012-10-14        28.02               42.0  \n",
       "2012-11-13        30.39               60.0  \n",
       "2012-12-13        32.28               56.0  \n",
       "2013-01-14        33.00               70.0  \n",
       "2013-02-12        32.67               62.0  \n",
       "2013-03-14        36.05               78.0  \n",
       "2013-04-14        36.53               78.0  \n",
       "2013-05-15        35.45               59.0  \n",
       "2013-06-16        36.41               68.0  "
      ]
     },
     "execution_count": 283,
     "metadata": {},
     "output_type": "execute_result"
    }
   ],
   "source": [
    "parse_kwh_bill(kwh_bill_files[0])"
   ]
  },
  {
   "cell_type": "markdown",
   "metadata": {},
   "source": [
    "### Gas interval data\n",
    "\n",
    "<p style=\"color:red\"> All gas interval data files are empty! </p>"
   ]
  },
  {
   "cell_type": "code",
   "execution_count": 288,
   "metadata": {
    "collapsed": false
   },
   "outputs": [
    {
     "data": {
      "text/plain": [
       "Counter({0: 2451})"
      ]
     },
     "execution_count": 288,
     "metadata": {},
     "output_type": "execute_result"
    }
   ],
   "source": [
    "from collections import Counter\n",
    "Counter([os.path.getsize(f) for f in gas_files])"
   ]
  },
  {
   "cell_type": "markdown",
   "metadata": {},
   "source": [
    "### Gas billing data\n",
    "<p style=\"color:red\"> All gas billing data files are empty! </p>"
   ]
  },
  {
   "cell_type": "code",
   "execution_count": 289,
   "metadata": {
    "collapsed": false
   },
   "outputs": [
    {
     "data": {
      "text/plain": [
       "Counter({304: 2451})"
      ]
     },
     "execution_count": 289,
     "metadata": {},
     "output_type": "execute_result"
    }
   ],
   "source": [
    "from collections import Counter\n",
    "Counter([os.path.getsize(f) for f in gas_bill_files])"
   ]
  },
  {
   "cell_type": "code",
   "execution_count": 291,
   "metadata": {
    "collapsed": false
   },
   "outputs": [
    {
     "data": {
      "text/html": [
       "<div>\n",
       "<table border=\"1\" class=\"dataframe\">\n",
       "  <thead>\n",
       "    <tr style=\"text-align: right;\">\n",
       "      <th></th>\n",
       "      <th>customer_name</th>\n",
       "      <th>customer_city</th>\n",
       "      <th>customer_zip</th>\n",
       "      <th>customer_account</th>\n",
       "      <th>lea_customer</th>\n",
       "      <th>cds_code</th>\n",
       "      <th>school_site_name</th>\n",
       "      <th>school_city</th>\n",
       "      <th>school_site_zip</th>\n",
       "      <th>agreement</th>\n",
       "      <th>...</th>\n",
       "      <th>generation</th>\n",
       "      <th>start_time</th>\n",
       "      <th>last_period</th>\n",
       "      <th>consumption_total</th>\n",
       "      <th>on_peak</th>\n",
       "      <th>semi_peak</th>\n",
       "      <th>off_peak</th>\n",
       "      <th>on_peak_demand</th>\n",
       "      <th>semi_peak_demand</th>\n",
       "      <th>off_peak_demand</th>\n",
       "    </tr>\n",
       "  </thead>\n",
       "  <tbody>\n",
       "  </tbody>\n",
       "</table>\n",
       "<p>0 rows × 24 columns</p>\n",
       "</div>"
      ],
      "text/plain": [
       "Empty DataFrame\n",
       "Columns: [customer_name, customer_city, customer_zip, customer_account, lea_customer, cds_code, school_site_name, school_city, school_site_zip, agreement, units, demandUnits, rate_schedule_id, n_days, generation, start_time, last_period, consumption_total, on_peak, semi_peak, off_peak, on_peak_demand, semi_peak_demand, off_peak_demand]\n",
       "Index: []\n",
       "\n",
       "[0 rows x 24 columns]"
      ]
     },
     "execution_count": 291,
     "metadata": {},
     "output_type": "execute_result"
    }
   ],
   "source": [
    "df = pd.read_csv(gas_bill_files[0])\n",
    "df.head()"
   ]
  },
  {
   "cell_type": "code",
   "execution_count": 292,
   "metadata": {
    "collapsed": false
   },
   "outputs": [
    {
     "data": {
      "text/plain": [
       "('01612590100123', 'PGE', 'GAS', 'INTERVAL')"
      ]
     },
     "execution_count": 292,
     "metadata": {},
     "output_type": "execute_result"
    }
   ],
   "source": [
    "keys[0]"
   ]
  },
  {
   "cell_type": "markdown",
   "metadata": {},
   "source": [
    "### Process all the files"
   ]
  },
  {
   "cell_type": "code",
   "execution_count": 197,
   "metadata": {
    "collapsed": false
   },
   "outputs": [
    {
     "name": "stdout",
     "output_type": "stream",
     "text": [
      "('37683380111898', 'SDGE', 'ELECTRIC', 'INTERVAL') : 1 files (3401/4095)\n"
     ]
    }
   ],
   "source": [
    "keys = files_df.index.unique()\n",
    "\n",
    "for i,key in enumerate(keys):\n",
    "    curId, utilityName, serviceType, dataType = key\n",
    "    clear_output(wait=True)\n",
    "    files = files_df.ix[key]['DataFile'].values\n",
    "    print key, \":\", len(files), \"files (%d/%d)\"%(i,len(keys))\n",
    "    \n",
    "    # read data, stitch together\n",
    "    if serviceType in ['ELECTRIC', 'Electricity'] and dataType == 'INTERVAL':\n",
    "        func = parse_kwh_interval\n",
    "    elif serviceType in ['ELECTRIC', 'Electricity'] and dataType == 'BILL':\n",
    "        func = parse_kwh_bill\n",
    "    kwh = [func(f) for f in files]\n",
    "    if len([x for x in kwh if x is None])==len(kwh):\n",
    "        print \"%s: no actual data!\"\n",
    "        continue\n",
    "    kwh = pd.concat(kwh, axis=0).sort_index()\n",
    "    \n",
    "    # save data to disc\n",
    "    cur_dir = out_path + \"/\" + utilityName + \"/\"\n",
    "    filename= \"%s_%s_%s_%s.csv\"%(curId, utilityName, serviceType, dataType)\n",
    "    try:\n",
    "        os.makedirs(cur_dir)\n",
    "    except:\n",
    "        pass\n",
    "    kwh.to_csv(cur_dir + filename)"
   ]
  }
 ],
 "metadata": {
  "anaconda-cloud": {},
  "kernelspec": {
   "display_name": "Python [default]",
   "language": "python",
   "name": "python2"
  },
  "language_info": {
   "codemirror_mode": {
    "name": "ipython",
    "version": 2
   },
   "file_extension": ".py",
   "mimetype": "text/x-python",
   "name": "python",
   "nbconvert_exporter": "python",
   "pygments_lexer": "ipython2",
   "version": "2.7.12"
  }
 },
 "nbformat": 4,
 "nbformat_minor": 0
}
